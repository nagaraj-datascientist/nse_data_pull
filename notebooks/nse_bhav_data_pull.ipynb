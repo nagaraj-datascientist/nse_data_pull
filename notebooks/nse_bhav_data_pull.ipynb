{
 "cells": [
  {
   "cell_type": "code",
   "execution_count": 7,
   "metadata": {},
   "outputs": [],
   "source": [
    "# Import libraries\n",
    "\n",
    "from datetime import datetime\n",
    "import zipfile\n",
    "import requests\n",
    "import pandas as pd\n",
    "import glob\n",
    "import os\n",
    "import io"
   ]
  },
  {
   "cell_type": "code",
   "execution_count": 8,
   "metadata": {},
   "outputs": [],
   "source": [
    "# Path and site values\n",
    "\n",
    "NSE_SITE = 'https://archives.nseindia.com/content/historical/EQUITIES/'\n",
    "\n",
    "DOWNLOAD_FOLDER = '../data/'\n",
    "ARCHIVE_FOLDER = '../archive/'"
   ]
  },
  {
   "cell_type": "code",
   "execution_count": 9,
   "metadata": {},
   "outputs": [],
   "source": [
    "# Create folder if not exist\n",
    "\n",
    "if not os.path.exists(DOWNLOAD_FOLDER):\n",
    "    os.makedirs(DOWNLOAD_FOLDER)"
   ]
  },
  {
   "cell_type": "code",
   "execution_count": 10,
   "metadata": {},
   "outputs": [
    {
     "name": "stdout",
     "output_type": "stream",
     "text": [
      "Starting date for download - 2005-04-01 00:00:00\n"
     ]
    }
   ],
   "source": [
    "# Set start date as max of downloaded file date from archive folder, end date as today\n",
    "\n",
    "downloaded_files = glob.glob(f'{ARCHIVE_FOLDER}/*.csv')\n",
    "files = [os.path.basename(d) for d in downloaded_files]\n",
    "files_date = [datetime.strptime(f,'cm%d%b%Ybhav.csv') for f in files]\n",
    "start_date ='1/3/2000' if not files_date else max(files_date)\n",
    "print(f'Starting date for download - {start_date}')"
   ]
  },
  {
   "cell_type": "code",
   "execution_count": 6,
   "metadata": {},
   "outputs": [
    {
     "name": "stdout",
     "output_type": "stream",
     "text": [
      "Out of 21 - 1 processed.https://archives.nseindia.com/content/historical/EQUITIES/2020/APR/cm03APR2020bhav.csv.zip - Downloaded.\n",
      "Out of 21 - 2 processed.https://archives.nseindia.com/content/historical/EQUITIES/2020/APR/cm06APR2020bhav.csv.zip - No Response.\n",
      "Out of 21 - 3 processed.https://archives.nseindia.com/content/historical/EQUITIES/2020/APR/cm07APR2020bhav.csv.zip - Downloaded.\n",
      "Out of 21 - 4 processed.https://archives.nseindia.com/content/historical/EQUITIES/2020/APR/cm08APR2020bhav.csv.zip - Downloaded.\n",
      "Out of 21 - 5 processed.https://archives.nseindia.com/content/historical/EQUITIES/2020/APR/cm09APR2020bhav.csv.zip - Downloaded.\n",
      "Out of 21 - 6 processed.https://archives.nseindia.com/content/historical/EQUITIES/2020/APR/cm10APR2020bhav.csv.zip - No Response.\n",
      "Out of 21 - 7 processed.https://archives.nseindia.com/content/historical/EQUITIES/2020/APR/cm13APR2020bhav.csv.zip - Downloaded.\n",
      "Out of 21 - 8 processed.https://archives.nseindia.com/content/historical/EQUITIES/2020/APR/cm14APR2020bhav.csv.zip - No Response.\n",
      "Out of 21 - 9 processed.https://archives.nseindia.com/content/historical/EQUITIES/2020/APR/cm15APR2020bhav.csv.zip - Downloaded.\n",
      "Out of 21 - 10 processed.https://archives.nseindia.com/content/historical/EQUITIES/2020/APR/cm16APR2020bhav.csv.zip - Downloaded.\n",
      "Out of 21 - 11 processed.https://archives.nseindia.com/content/historical/EQUITIES/2020/APR/cm17APR2020bhav.csv.zip - Downloaded.\n",
      "Out of 21 - 12 processed.https://archives.nseindia.com/content/historical/EQUITIES/2020/APR/cm20APR2020bhav.csv.zip - Downloaded.\n",
      "Out of 21 - 13 processed.https://archives.nseindia.com/content/historical/EQUITIES/2020/APR/cm21APR2020bhav.csv.zip - Downloaded.\n",
      "Out of 21 - 14 processed.https://archives.nseindia.com/content/historical/EQUITIES/2020/APR/cm22APR2020bhav.csv.zip - Downloaded.\n",
      "Out of 21 - 15 processed.https://archives.nseindia.com/content/historical/EQUITIES/2020/APR/cm23APR2020bhav.csv.zip - Downloaded.\n",
      "Out of 21 - 16 processed.https://archives.nseindia.com/content/historical/EQUITIES/2020/APR/cm24APR2020bhav.csv.zip - Downloaded.\n",
      "Out of 21 - 17 processed.https://archives.nseindia.com/content/historical/EQUITIES/2020/APR/cm27APR2020bhav.csv.zip - Downloaded.\n",
      "Out of 21 - 18 processed.https://archives.nseindia.com/content/historical/EQUITIES/2020/APR/cm28APR2020bhav.csv.zip - Downloaded.\n",
      "Out of 21 - 19 processed.https://archives.nseindia.com/content/historical/EQUITIES/2020/APR/cm29APR2020bhav.csv.zip - Downloaded.\n",
      "Out of 21 - 20 processed.https://archives.nseindia.com/content/historical/EQUITIES/2020/APR/cm30APR2020bhav.csv.zip - Downloaded.\n",
      "Out of 21 - 21 processed.https://archives.nseindia.com/content/historical/EQUITIES/2020/MAY/cm01MAY2020bhav.csv.zip - No Response.\n"
     ]
    }
   ],
   "source": [
    "# Iterate through date range and download\n",
    "\n",
    "# start_date, end_date = '1/1/2005', '31/12/2006' # For custom date start, end\n",
    "# date_range = pd.bdate_range(start=start_date, end=end_date).tolist() # For custom date range\n",
    "\n",
    "date_range = pd.bdate_range(start=start_date, end=datetime.today()).tolist()\n",
    "\n",
    "for c, d in enumerate(date_range):\n",
    "    year, month = d.year, d.strftime('%b').upper()\n",
    "    bhav_file_url = f\"{NSE_SITE}{year}/{month}/cm{d.strftime('%d')}{month}{year}bhav.csv.zip\"\n",
    "    try:\n",
    "        r = requests.get(bhav_file_url)\n",
    "        if r.status_code == 200:\n",
    "            z = zipfile.ZipFile(io.BytesIO(r.content))\n",
    "            z.extractall(DOWNLOAD_FOLDER)\n",
    "            print(f'Out of {len(date_range)} - {c+1} processed.{bhav_file_url} - Downloaded.')\n",
    "        else:\n",
    "            print(f'Out of {len(date_range)} - {c+1} processed.{bhav_file_url} - Invalid URL.')\n",
    "    except:\n",
    "        print(f'Out of {len(date_range)} - {c+1} processed.{bhav_file_url} - No Response.')\n",
    "        "
   ]
  },
  {
   "cell_type": "code",
   "execution_count": null,
   "metadata": {},
   "outputs": [],
   "source": []
  }
 ],
 "metadata": {
  "kernelspec": {
   "display_name": "Python 3",
   "language": "python",
   "name": "python3"
  },
  "language_info": {
   "codemirror_mode": {
    "name": "ipython",
    "version": 3
   },
   "file_extension": ".py",
   "mimetype": "text/x-python",
   "name": "python",
   "nbconvert_exporter": "python",
   "pygments_lexer": "ipython3",
   "version": "3.7.4"
  }
 },
 "nbformat": 4,
 "nbformat_minor": 4
}
