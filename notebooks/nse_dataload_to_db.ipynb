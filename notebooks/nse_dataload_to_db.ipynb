{
 "cells": [
  {
   "cell_type": "code",
   "execution_count": 117,
   "metadata": {},
   "outputs": [],
   "source": [
    "# Import libraries\n",
    "\n",
    "import pandas as pd\n",
    "import sqlalchemy as sa\n",
    "import pymssql\n",
    "import glob\n",
    "import os\n",
    "import shutil"
   ]
  },
  {
   "cell_type": "code",
   "execution_count": 118,
   "metadata": {},
   "outputs": [],
   "source": [
    "# Download and Archive folder path\n",
    "\n",
    "DOWNLOAD_FOLDER = '../data/'\n",
    "ARCHIVE_FOLDER = '../archive/'\n",
    "\n",
    "# Server details\n",
    "\n",
    "RDBMS_NAME = 'mssql'\n",
    "DRIVER_NAME = 'pymssql'\n",
    "USER_NAME = 'sa'\n",
    "PASSWORD = 'Datac3rtsql'\n",
    "SERVER_NAME = 'ELM-NSUNDAR-02\\\\S2016'\n",
    "DATABASE_NAME = 'NSE'"
   ]
  },
  {
   "cell_type": "code",
   "execution_count": 119,
   "metadata": {},
   "outputs": [],
   "source": [
    "# Create table query\n",
    "\n",
    "# CREATE TABLE [dbo].[BHAV_COPY_TEST](\n",
    "#     [ID] [int] IDENTITY(1,1) NOT NULL,\n",
    "#     [FNAME] [nvarchar](255) NULL,\n",
    "#     [RCOUNT] [int]\n",
    "# ) ON [PRIMARY]\n",
    "\n",
    "\n",
    "\n",
    "# CREATE TABLE [dbo].[BHAV_COPY](\n",
    "#     [ID] [int] IDENTITY(1,1) NOT NULL,\n",
    "#     [SYMBOL] [nvarchar](255) NULL,\n",
    "#     [SERIES] [nvarchar](255) NULL,\n",
    "#     [OPEN] [float] NULL,\n",
    "#     [HIGH] [float] NULL,\n",
    "#     [LOW] [float] NULL,\n",
    "#     [CLOSE] [float] NULL,\n",
    "#     [LAST] [float] NULL,\n",
    "#     [PREVCLOSE] [float] NULL,\n",
    "#     [TOTTRDQTY] [float] NULL,\n",
    "#     [TOTTRDVAL] [float] NULL,\n",
    "#     [TIMESTAMP] [date] NULL,\n",
    "#     [TOTALTRADES] [float] NULL,\n",
    "#     [ISIN] [nvarchar](255) NULL,\n",
    "#     [FNAME] [nvarchar](255) NULL\n",
    "# ) ON [PRIMARY]"
   ]
  },
  {
   "cell_type": "code",
   "execution_count": 120,
   "metadata": {},
   "outputs": [],
   "source": [
    "# Table name for bhav_copy and test table\n",
    "\n",
    "BHAV_COPY_TABLE_NAME = 'BHAV_COPY'\n",
    "BHAV_COPY_TEST_TABLE_NAME = 'BHAV_COPY_TEST'"
   ]
  },
  {
   "cell_type": "code",
   "execution_count": 121,
   "metadata": {},
   "outputs": [],
   "source": [
    "# Create folder if not exist\n",
    "\n",
    "if not os.path.exists(DOWNLOAD_FOLDER):\n",
    "    os.makedirs(DOWNLOAD_FOLDER)\n",
    "\n",
    "if not os.path.exists(ARCHIVE_FOLDER):\n",
    "    os.makedirs(ARCHIVE_FOLDER)"
   ]
  },
  {
   "cell_type": "code",
   "execution_count": 122,
   "metadata": {},
   "outputs": [],
   "source": [
    "# downloaded files\n",
    "\n",
    "downloaded_files = glob.glob(f'{DOWNLOAD_FOLDER}/*.csv')"
   ]
  },
  {
   "cell_type": "code",
   "execution_count": 123,
   "metadata": {},
   "outputs": [],
   "source": [
    "# bhav copy columns\n",
    "\n",
    "cols = ['SYMBOL','SERIES','OPEN','HIGH','LOW','CLOSE','LAST',\n",
    "        'PREVCLOSE','TOTTRDQTY','TOTTRDVAL','TIMESTAMP','TOTALTRADES','ISIN']"
   ]
  },
  {
   "cell_type": "code",
   "execution_count": 124,
   "metadata": {},
   "outputs": [],
   "source": [
    "# Database connection\n",
    "\n",
    "engine = sa.create_engine(f'{RDBMS_NAME}+{DRIVER_NAME}://{USER_NAME}:{PASSWORD}@{SERVER_NAME}/{DATABASE_NAME}')"
   ]
  },
  {
   "cell_type": "code",
   "execution_count": 125,
   "metadata": {
    "scrolled": false
   },
   "outputs": [
    {
     "name": "stdout",
     "output_type": "stream",
     "text": [
      "No downloaded files to load.\n"
     ]
    }
   ],
   "source": [
    "# Loading to database\n",
    "\n",
    "if not downloaded_files:\n",
    "    print('No downloaded files to load.')\n",
    "else:\n",
    "    print(f'No. of files to load {len(downloaded_files)}')\n",
    "    for i, f in enumerate(downloaded_files):\n",
    "        file_name = os.path.basename(f)\n",
    "        bhav_df = pd.read_csv(f, usecols=lambda c: c in cols, parse_dates=['TIMESTAMP'])\n",
    "        bhav_df['FNAME'] = file_name\n",
    "        data = [{'FNAME':file_name,'RCOUNT':bhav_df.shape[0]}]\n",
    "        bhav_check_df = pd.DataFrame(data=data)\n",
    "        \n",
    "        with engine.connect() as con:\n",
    "            bhav_df.to_sql(BHAV_COPY_TABLE_NAME, con, if_exists='append', index=False)\n",
    "            bhav_check_df.to_sql(BHAV_COPY_TEST_TABLE_NAME, con, if_exists='append', index=False)\n",
    "            \n",
    "        print(f'Out of {len(downloaded_files)}, {i+1} loaded into DB - {file_name}.')"
   ]
  },
  {
   "cell_type": "code",
   "execution_count": 126,
   "metadata": {},
   "outputs": [],
   "source": [
    "# delete duplicate rows for bhav_copy table if any\n",
    "\n",
    "del_bhav_copy = f'''   DELETE \n",
    "FROM \n",
    "    {BHAV_COPY_TABLE_NAME} \n",
    "WHERE \n",
    "    \"ID\" IN (\n",
    "SELECT \"ID\" \n",
    "FROM(\n",
    "SELECT \n",
    "    *, ROW_NUMBER() OVER (PARTITION BY \"SYMBOL\", \"SERIES\", \"TIMESTAMP\" ORDER BY \"FNAME\") AS \"RNo\" \n",
    "FROM\n",
    "    {BHAV_COPY_TABLE_NAME}) A\n",
    "WHERE A.\"RNo\" >1)  '''"
   ]
  },
  {
   "cell_type": "code",
   "execution_count": 127,
   "metadata": {},
   "outputs": [],
   "source": [
    "# delete duplicate rows for bhav_copy_test table if any\n",
    "\n",
    "del_bhav_copy_test = f'''  DELETE \n",
    "FROM \n",
    "    {BHAV_COPY_TEST_TABLE_NAME} \n",
    "WHERE \n",
    "    \"ID\" IN (\n",
    "SELECT \"ID\" \n",
    "FROM(\n",
    "SELECT \n",
    "    *, ROW_NUMBER() OVER (PARTITION BY \"FNAME\", \"RCOUNT\" ORDER BY \"FNAME\") AS \"RNo\" \n",
    "FROM\n",
    "    {BHAV_COPY_TEST_TABLE_NAME}) A\n",
    "WHERE A.\"RNo\" >1) '''\n"
   ]
  },
  {
   "cell_type": "code",
   "execution_count": 128,
   "metadata": {},
   "outputs": [],
   "source": [
    "# Delete duplicate rows\n",
    "\n",
    "with engine.connect() as con:\n",
    "    con.execute(del_bhav_copy)\n",
    "    con.execute(del_bhav_copy_test)"
   ]
  },
  {
   "cell_type": "code",
   "execution_count": 129,
   "metadata": {},
   "outputs": [
    {
     "name": "stdout",
     "output_type": "stream",
     "text": [
      "Validation Success\n",
      "Bhav files are moved to Archive\n",
      "Program ends...\n"
     ]
    }
   ],
   "source": [
    "# Validating data load\n",
    "\n",
    "bhav_copy_val_sql = f''' SELECT \"FNAME\", COUNT(*) AS \"RCOUNT\" FROM {BHAV_COPY_TABLE_NAME} GROUP BY \"FNAME\"'''\n",
    "\n",
    "with engine.connect() as con:\n",
    "    bhav_count_df = pd.read_sql(bhav_copy_val_sql, con)\n",
    "    bhav_test_count_df = pd.read_sql(BHAV_COPY_TEST_TABLE_NAME, con, columns = ['FNAME', 'RCOUNT'])\n",
    "    \n",
    "    val_df = pd.merge(bhav_count_df, bhav_test_count_df, left_on = 'FNAME', right_on='FNAME', how='outer')\n",
    "    val_df['RESULT'] = (val_df['RCOUNT_x'] == val_df['RCOUNT_y'])\n",
    "    \n",
    "    if val_df['RESULT'].all():\n",
    "        print('Validation Success')\n",
    "        for i, f in enumerate(downloaded_files):\n",
    "            file_name = os.path.basename(f)\n",
    "            file_name_in_archive = f'{ARCHIVE_FOLDER}{file_name}'\n",
    "            if not os.path.isfile(file_name_in_archive):\n",
    "                shutil.move(f, f'{ARCHIVE_FOLDER}')\n",
    "            else:\n",
    "                os.remove(f)\n",
    "        print('Bhav files are moved to Archive')\n",
    "    else:\n",
    "        print('Validation failed.')\n",
    "        print(val_df[~val_df.RESULT])\n",
    "\n",
    "\n",
    "print('Program ends...')"
   ]
  },
  {
   "cell_type": "code",
   "execution_count": null,
   "metadata": {},
   "outputs": [],
   "source": []
  }
 ],
 "metadata": {
  "kernelspec": {
   "display_name": "Python 3",
   "language": "python",
   "name": "python3"
  },
  "language_info": {
   "codemirror_mode": {
    "name": "ipython",
    "version": 3
   },
   "file_extension": ".py",
   "mimetype": "text/x-python",
   "name": "python",
   "nbconvert_exporter": "python",
   "pygments_lexer": "ipython3",
   "version": "3.7.4"
  }
 },
 "nbformat": 4,
 "nbformat_minor": 2
}
